{
 "cells": [
  {
   "cell_type": "markdown",
   "metadata": {},
   "source": [
    "# VacationPy\n",
    "----\n",
    "\n",
    "#### Note\n",
    "* Keep an eye on your API usage. Use https://developers.google.com/maps/reporting/gmp-reporting as reference for how to monitor your usage and billing.\n",
    "\n",
    "* Instructions have been included for each segment. You do not have to follow them exactly, but they are included to help you think through the steps."
   ]
  },
  {
   "cell_type": "code",
   "execution_count": 5,
   "metadata": {},
   "outputs": [],
   "source": [
    "# Dependencies and Setup\n",
    "import matplotlib.pyplot as plt\n",
    "import pandas as pd\n",
    "import numpy as np\n",
    "import requests\n",
    "import gmaps\n",
    "import os\n",
    "\n",
    "# Import API key\n",
    "from api_keys import g_key\n",
    "gmaps.configure(api_key=g_key)"
   ]
  },
  {
   "cell_type": "markdown",
   "metadata": {},
   "source": [
    "### Store Part I results into DataFrame\n",
    "* Load the csv exported in Part I to a DataFrame"
   ]
  },
  {
   "cell_type": "code",
   "execution_count": 6,
   "metadata": {},
   "outputs": [
    {
     "name": "stdout",
     "output_type": "stream",
     "text": [
      "<class 'pandas.core.frame.DataFrame'>\n",
      "RangeIndex: 100 entries, 0 to 99\n",
      "Data columns (total 10 columns):\n",
      " #   Column       Non-Null Count  Dtype  \n",
      "---  ------       --------------  -----  \n",
      " 0   City         100 non-null    object \n",
      " 1   Country      87 non-null     object \n",
      " 2   Latitude     87 non-null     float64\n",
      " 3   Longitude    87 non-null     float64\n",
      " 4   Date         87 non-null     float64\n",
      " 5   Wind_Speed   87 non-null     float64\n",
      " 6   Pressure     87 non-null     float64\n",
      " 7   Humidity     87 non-null     float64\n",
      " 8   Temperature  87 non-null     float64\n",
      " 9   Cloudiness   87 non-null     float64\n",
      "dtypes: float64(8), object(2)\n",
      "memory usage: 7.9+ KB\n",
      "<class 'pandas.core.frame.DataFrame'>\n",
      "RangeIndex: 87 entries, 0 to 86\n",
      "Data columns (total 10 columns):\n",
      " #   Column       Non-Null Count  Dtype  \n",
      "---  ------       --------------  -----  \n",
      " 0   City         87 non-null     object \n",
      " 1   Country      87 non-null     object \n",
      " 2   Latitude     87 non-null     float64\n",
      " 3   Longitude    87 non-null     float64\n",
      " 4   Date         87 non-null     float64\n",
      " 5   Wind_Speed   87 non-null     float64\n",
      " 6   Pressure     87 non-null     float64\n",
      " 7   Humidity     87 non-null     float64\n",
      " 8   Temperature  87 non-null     float64\n",
      " 9   Cloudiness   87 non-null     float64\n",
      "dtypes: float64(8), object(2)\n",
      "memory usage: 6.9+ KB\n"
     ]
    }
   ],
   "source": [
    "df = pd.read_csv(\"weather_data.csv\")\n",
    "df.info()\n",
    "df = df.dropna().reset_index(drop=True)\n",
    "df.info()"
   ]
  },
  {
   "cell_type": "markdown",
   "metadata": {},
   "source": [
    "### Humidity Heatmap\n",
    "* Configure gmaps.\n",
    "* Use the Lat and Lng as locations and Humidity as the weight.\n",
    "* Add Heatmap layer to map."
   ]
  },
  {
   "cell_type": "code",
   "execution_count": 8,
   "metadata": {},
   "outputs": [
    {
     "data": {
      "application/vnd.jupyter.widget-view+json": {
       "model_id": "917388531dab4d7d9924d30a0d8d44f7",
       "version_major": 2,
       "version_minor": 0
      },
      "text/plain": [
       "Figure(layout=FigureLayout(height='420px'))"
      ]
     },
     "metadata": {},
     "output_type": "display_data"
    }
   ],
   "source": [
    "locations = df.loc[:, [\"Latitude\", \"Longitude\"]]\n",
    "\n",
    "fig = gmaps.figure()\n",
    "heatmap_layer = gmaps.heatmap_layer(\n",
    "    locations, weights=df['Humidity'],\n",
    "    max_intensity=20, point_radius=5\n",
    ")\n",
    "fig.add_layer(heatmap_layer)\n",
    "fig"
   ]
  },
  {
   "cell_type": "code",
   "execution_count": null,
   "metadata": {},
   "outputs": [],
   "source": []
  },
  {
   "cell_type": "markdown",
   "metadata": {},
   "source": [
    "### Create new DataFrame fitting weather criteria\n",
    "* Narrow down the cities to fit weather conditions.\n",
    "* Drop any rows will null values."
   ]
  },
  {
   "cell_type": "code",
   "execution_count": 11,
   "metadata": {},
   "outputs": [
    {
     "data": {
      "text/html": [
       "<div>\n",
       "<style scoped>\n",
       "    .dataframe tbody tr th:only-of-type {\n",
       "        vertical-align: middle;\n",
       "    }\n",
       "\n",
       "    .dataframe tbody tr th {\n",
       "        vertical-align: top;\n",
       "    }\n",
       "\n",
       "    .dataframe thead th {\n",
       "        text-align: right;\n",
       "    }\n",
       "</style>\n",
       "<table border=\"1\" class=\"dataframe\">\n",
       "  <thead>\n",
       "    <tr style=\"text-align: right;\">\n",
       "      <th></th>\n",
       "      <th>City</th>\n",
       "      <th>Country</th>\n",
       "      <th>Latitude</th>\n",
       "      <th>Longitude</th>\n",
       "      <th>Date</th>\n",
       "      <th>Wind_Speed</th>\n",
       "      <th>Pressure</th>\n",
       "      <th>Humidity</th>\n",
       "      <th>Temperature</th>\n",
       "      <th>Cloudiness</th>\n",
       "    </tr>\n",
       "  </thead>\n",
       "  <tbody>\n",
       "    <tr>\n",
       "      <th>11</th>\n",
       "      <td>Zhaoqing</td>\n",
       "      <td>CN</td>\n",
       "      <td>23.0512</td>\n",
       "      <td>112.4597</td>\n",
       "      <td>1.668101e+09</td>\n",
       "      <td>0.81</td>\n",
       "      <td>1015.0</td>\n",
       "      <td>81.0</td>\n",
       "      <td>76.82</td>\n",
       "      <td>0.0</td>\n",
       "    </tr>\n",
       "  </tbody>\n",
       "</table>\n",
       "</div>"
      ],
      "text/plain": [
       "        City Country  Latitude  Longitude          Date  Wind_Speed  Pressure  \\\n",
       "11  Zhaoqing      CN   23.0512   112.4597  1.668101e+09        0.81    1015.0   \n",
       "\n",
       "    Humidity  Temperature  Cloudiness  \n",
       "11      81.0        76.82         0.0  "
      ]
     },
     "execution_count": 11,
     "metadata": {},
     "output_type": "execute_result"
    }
   ],
   "source": [
    "sub = (df.Temperature < 80) & (df.Temperature > 70) & (df.Wind_Speed < 10) & (df.Cloudiness == 0)\n",
    "df2 = df.loc[sub]\n",
    "df2"
   ]
  },
  {
   "cell_type": "code",
   "execution_count": null,
   "metadata": {},
   "outputs": [],
   "source": []
  },
  {
   "cell_type": "markdown",
   "metadata": {},
   "source": [
    "### Hotel Map\n",
    "* Store into variable named `hotel_df`.\n",
    "* Add a \"Hotel Name\" column to the DataFrame.\n",
    "* Set parameters to search for hotels with 5000 meters.\n",
    "* Hit the Google Places API for each city's coordinates.\n",
    "* Store the first Hotel result into the DataFrame.\n",
    "* Plot markers on top of the heatmap."
   ]
  },
  {
   "cell_type": "code",
   "execution_count": 16,
   "metadata": {},
   "outputs": [
    {
     "name": "stdout",
     "output_type": "stream",
     "text": [
      "[{'business_status': 'OPERATIONAL', 'geometry': {'location': {'lat': 23.092145, 'lng': 112.474735}, 'viewport': {'northeast': {'lat': 23.0934285802915, 'lng': 112.4759329802915}, 'southwest': {'lat': 23.0907306197085, 'lng': 112.4732350197085}}}, 'icon': 'https://maps.gstatic.com/mapfiles/place_api/icons/v1/png_71/lodging-71.png', 'icon_background_color': '#909CE1', 'icon_mask_base_uri': 'https://maps.gstatic.com/mapfiles/place_api/icons/v2/hotel_pinlet', 'name': '七星岩旅游度假区', 'photos': [{'height': 2322, 'html_attributions': ['<a href=\"https://maps.google.com/maps/contrib/114400738587649543554\">HsienCheng Liu</a>'], 'photo_reference': 'AW30NDzbts9cd5pVrjIAC5aPEqnd6bp6Wi1wJrAdgUht_97is6gwFxszlEGzP8wPDQdsBIhAhJQfQVzw7Od95WX4kfwHF_Juv-5WwKNCmj-s7-K3lODaY9OVShujOPSoRMymKM3MeOMjbL8h7JIWoCahl0RJB4rrta4ZgOMAGytx6LHHdgp8', 'width': 4128}], 'place_id': 'ChIJgUyFvKnRqTYRPJszrVLs8hc', 'plus_code': {'compound_code': '3FRF+VV Duanzhou District, Zhaoqing, Guangdong Province, China', 'global_code': '7PMJ3FRF+VV'}, 'rating': 4.4, 'reference': 'ChIJgUyFvKnRqTYRPJszrVLs8hc', 'scope': 'GOOGLE', 'types': ['lodging', 'point_of_interest', 'establishment'], 'user_ratings_total': 7, 'vicinity': 'China'}, {'business_status': 'OPERATIONAL', 'geometry': {'location': {'lat': 23.076709, 'lng': 112.445742}, 'viewport': {'northeast': {'lat': 23.0782788802915, 'lng': 112.4470583802915}, 'southwest': {'lat': 23.0755809197085, 'lng': 112.4443604197085}}}, 'icon': 'https://maps.gstatic.com/mapfiles/place_api/icons/v1/png_71/lodging-71.png', 'icon_background_color': '#909CE1', 'icon_mask_base_uri': 'https://maps.gstatic.com/mapfiles/place_api/icons/v2/hotel_pinlet', 'name': '星丽湖度假村', 'photos': [{'height': 3016, 'html_attributions': ['<a href=\"https://maps.google.com/maps/contrib/101272138851717514633\">t h</a>'], 'photo_reference': 'AW30NDxgE1PAzfBqu3kpE4TeDN8z_KxzGXKhTiS-kxFrf6MKRqUDD3LKKM56aH4T1X221XBGf_8Ky-lDNjOdACPUB7ZVbKeANFZxmGI7kdwPmgmOm92aDFMh_aqo-mYDq4pdmbR3sA-WGRAaRjUsVUUBMbfEp1coUbZupCttAjKT8d-Wl889', 'width': 4032}], 'place_id': 'ChIJtd8ZFDrQqTYR-hMS8t3YqQE', 'reference': 'ChIJtd8ZFDrQqTYR-hMS8t3YqQE', 'scope': 'GOOGLE', 'types': ['lodging', 'point_of_interest', 'establishment'], 'vicinity': '3CGW+M7Q, Duanzhou District, Zhaoqing'}, {'business_status': 'OPERATIONAL', 'geometry': {'location': {'lat': 23.04969, 'lng': 112.469218}, 'viewport': {'northeast': {'lat': 23.0510406802915, 'lng': 112.4705444802915}, 'southwest': {'lat': 23.0483427197085, 'lng': 112.4678465197085}}}, 'icon': 'https://maps.gstatic.com/mapfiles/place_api/icons/v1/png_71/lodging-71.png', 'icon_background_color': '#909CE1', 'icon_mask_base_uri': 'https://maps.gstatic.com/mapfiles/place_api/icons/v2/hotel_pinlet', 'name': 'Nuohuating Hotel', 'photos': [{'height': 4032, 'html_attributions': ['<a href=\"https://maps.google.com/maps/contrib/117991781856758425351\">Joey Cheung</a>'], 'photo_reference': 'AW30NDw0HdjLFxhLQMuHLfDJUG8WybTuk0M9Ly2LoatNsBkB-ghCQf0UHsipdQPbcv2IAJc9g4CEMYAyV0o8uRlQTm2uREAyrhaXBdZBmKxwN4GLq7x5R5ZeHQlHMTM3ZXigVFyJS-JTM_IkY50jtExZ4mdSGUG9DsA_IX7zr3FekTWZymAW', 'width': 3024}], 'place_id': 'ChIJaSN6DXvQqTYRzCiXlSPKQ-U', 'plus_code': {'compound_code': '2FX9+VM Duanzhou District, Zhaoqing, Guangdong Province, China', 'global_code': '7PMJ2FX9+VM'}, 'rating': 3.2, 'reference': 'ChIJaSN6DXvQqTYRzCiXlSPKQ-U', 'scope': 'GOOGLE', 'types': ['lodging', 'point_of_interest', 'establishment'], 'user_ratings_total': 5, 'vicinity': '端州区天宁北路63号合百利广场11楼, Zhao Qing Shi'}, {'business_status': 'OPERATIONAL', 'geometry': {'location': {'lat': 23.016351, 'lng': 112.461483}, 'viewport': {'northeast': {'lat': 23.0178899802915, 'lng': 112.4629402802915}, 'southwest': {'lat': 23.0151920197085, 'lng': 112.4602423197085}}}, 'icon': 'https://maps.gstatic.com/mapfiles/place_api/icons/v1/png_71/lodging-71.png', 'icon_background_color': '#909CE1', 'icon_mask_base_uri': 'https://maps.gstatic.com/mapfiles/place_api/icons/v2/hotel_pinlet', 'name': 'Country Garden Phoenix Hotel Zhaoqing', 'photos': [{'height': 960, 'html_attributions': ['<a href=\"https://maps.google.com/maps/contrib/103271336220480617424\">张羽峰</a>'], 'photo_reference': 'AW30NDx6Q8o3QxwbIIo5PzD7XI_bytYNK0j-3wi11fneIfL6rxiv-HAeVSDwtg2GwMA_PqTNZsiQexCXU4mDASUy7iQpEc-XN9id4t9DAYLyxEXj6T_tBple9XlpWNEVxBAFPGWY70cP8CLBiOaJddsVYYu_Aajm4ypjR3U4evkKlkJvrUPr', 'width': 1280}], 'place_id': 'ChIJuW2IFvPaqTYRtVoySEJ16SI', 'plus_code': {'compound_code': '2F86+GH Gaoyao District, Zhaoqing, Guangdong Province, China', 'global_code': '7PMJ2F86+GH'}, 'rating': 3, 'reference': 'ChIJuW2IFvPaqTYRtVoySEJ16SI', 'scope': 'GOOGLE', 'types': ['lodging', 'point_of_interest', 'establishment'], 'user_ratings_total': 1, 'vicinity': '18 Hu Xi Yi Lu, Zhao Qing Shi'}, {'business_status': 'OPERATIONAL', 'geometry': {'location': {'lat': 23.0287095, 'lng': 112.4525597}, 'viewport': {'northeast': {'lat': 23.0300656802915, 'lng': 112.4539088302915}, 'southwest': {'lat': 23.0273677197085, 'lng': 112.4512108697085}}}, 'icon': 'https://maps.gstatic.com/mapfiles/place_api/icons/v1/png_71/lodging-71.png', 'icon_background_color': '#909CE1', 'icon_mask_base_uri': 'https://maps.gstatic.com/mapfiles/place_api/icons/v2/hotel_pinlet', 'name': 'Hongtao Tourism Industry', 'place_id': 'ChIJWXNegb3aqTYRuZYKJkUC-2k', 'reference': 'ChIJWXNegb3aqTYRuZYKJkUC-2k', 'scope': 'GOOGLE', 'types': ['lodging', 'point_of_interest', 'establishment'], 'vicinity': '2FH3+F2M, Da Qiao Lu, Gao Yao Qu, Zhao Qing Shi'}, {'business_status': 'OPERATIONAL', 'geometry': {'location': {'lat': 23.0270821, 'lng': 112.452925}, 'viewport': {'northeast': {'lat': 23.0284258802915, 'lng': 112.4543153802915}, 'southwest': {'lat': 23.0257279197085, 'lng': 112.4516174197085}}}, 'icon': 'https://maps.gstatic.com/mapfiles/place_api/icons/v1/png_71/lodging-71.png', 'icon_background_color': '#909CE1', 'icon_mask_base_uri': 'https://maps.gstatic.com/mapfiles/place_api/icons/v2/hotel_pinlet', 'name': 'Xiongrun Hotel', 'place_id': 'ChIJMzz19r3aqTYRrDeplgmgxjI', 'reference': 'ChIJMzz19r3aqTYRrDeplgmgxjI', 'scope': 'GOOGLE', 'types': ['lodging', 'point_of_interest', 'establishment'], 'vicinity': '2FG3+R5M, Yao Nan Yi Lu, Gao Yao Qu, Zhao Qing Shi'}, {'business_status': 'OPERATIONAL', 'geometry': {'location': {'lat': 23.08354, 'lng': 112.462522}, 'viewport': {'northeast': {'lat': 23.0848685302915, 'lng': 112.4638329302915}, 'southwest': {'lat': 23.0821705697085, 'lng': 112.4611349697085}}}, 'icon': 'https://maps.gstatic.com/mapfiles/place_api/icons/v1/png_71/lodging-71.png', 'icon_background_color': '#909CE1', 'icon_mask_base_uri': 'https://maps.gstatic.com/mapfiles/place_api/icons/v2/hotel_pinlet', 'name': '七星岩渡假区', 'place_id': 'ChIJJdkgpk3QqTYRG2rC-OqbRio', 'reference': 'ChIJJdkgpk3QqTYRG2rC-OqbRio', 'scope': 'GOOGLE', 'types': ['lodging', 'point_of_interest', 'establishment'], 'vicinity': '3FM7+C26, Duanzhou District, Zhaoqing'}, {'business_status': 'OPERATIONAL', 'geometry': {'location': {'lat': 23.0282308, 'lng': 112.4618738}, 'viewport': {'northeast': {'lat': 23.0296474302915, 'lng': 112.4632188802915}, 'southwest': {'lat': 23.0269494697085, 'lng': 112.4605209197085}}}, 'icon': 'https://maps.gstatic.com/mapfiles/place_api/icons/v1/png_71/lodging-71.png', 'icon_background_color': '#909CE1', 'icon_mask_base_uri': 'https://maps.gstatic.com/mapfiles/place_api/icons/v2/hotel_pinlet', 'name': 'Zi You Zhu Hotel', 'place_id': 'ChIJfTkS-JDaqTYRJgii2Sl-5Ic', 'plus_code': {'compound_code': '2FH6+7P Gaoyao District, Zhaoqing, Guangdong Province, China', 'global_code': '7PMJ2FH6+7P'}, 'reference': 'ChIJfTkS-JDaqTYRJgii2Sl-5Ic', 'scope': 'GOOGLE', 'types': ['lodging', 'point_of_interest', 'establishment'], 'vicinity': '南兴二路189号, Zhao Qing Shi'}, {'business_status': 'OPERATIONAL', 'geometry': {'location': {'lat': 23.0487107, 'lng': 112.4733654}, 'viewport': {'northeast': {'lat': 23.05010453029151, 'lng': 112.4747161302915}, 'southwest': {'lat': 23.0474065697085, 'lng': 112.4720181697085}}}, 'icon': 'https://maps.gstatic.com/mapfiles/place_api/icons/v1/png_71/lodging-71.png', 'icon_background_color': '#909CE1', 'icon_mask_base_uri': 'https://maps.gstatic.com/mapfiles/place_api/icons/v2/hotel_pinlet', 'name': '7 Days Inn', 'place_id': 'ChIJ_Srk-HzQqTYRb11w54AotZg', 'plus_code': {'compound_code': '2FXF+F8 Duanzhou District, Zhaoqing, Guangdong Province, China', 'global_code': '7PMJ2FXF+F8'}, 'reference': 'ChIJ_Srk-HzQqTYRb11w54AotZg', 'scope': 'GOOGLE', 'types': ['lodging', 'point_of_interest', 'establishment'], 'vicinity': '40 Jian She San Lu, Duan Zhou Qu, Zhao Qing Shi'}, {'business_status': 'OPERATIONAL', 'geometry': {'location': {'lat': 23.0530841, 'lng': 112.4581853}, 'viewport': {'northeast': {'lat': 23.0543942302915, 'lng': 112.4595362802915}, 'southwest': {'lat': 23.0516962697085, 'lng': 112.4568383197085}}}, 'icon': 'https://maps.gstatic.com/mapfiles/place_api/icons/v1/png_71/lodging-71.png', 'icon_background_color': '#909CE1', 'icon_mask_base_uri': 'https://maps.gstatic.com/mapfiles/place_api/icons/v2/hotel_pinlet', 'name': '7天连锁酒店', 'place_id': 'ChIJPX6hCHLQqTYRzsXthdwcvZo', 'plus_code': {'compound_code': '3F35+67 Duanzhou District, Zhaoqing, Guangdong Province, China', 'global_code': '7PMJ3F35+67'}, 'reference': 'ChIJPX6hCHLQqTYRzsXthdwcvZo', 'scope': 'GOOGLE', 'types': ['lodging', 'point_of_interest', 'establishment'], 'vicinity': '8 Duan Zhou Liu Lu, Duan Zhou Qu, Zhao Qing Shi'}, {'business_status': 'OPERATIONAL', 'geometry': {'location': {'lat': 23.0452664, 'lng': 112.4697629}, 'viewport': {'northeast': {'lat': 23.0466590802915, 'lng': 112.4711229302915}, 'southwest': {'lat': 23.0439611197085, 'lng': 112.4684249697085}}}, 'icon': 'https://maps.gstatic.com/mapfiles/place_api/icons/v1/png_71/lodging-71.png', 'icon_background_color': '#909CE1', 'icon_mask_base_uri': 'https://maps.gstatic.com/mapfiles/place_api/icons/v2/hotel_pinlet', 'name': 'Zhaoqing Jinjiang Hotel', 'place_id': 'ChIJlQKLQ3nQqTYRuHeuatxCj34', 'plus_code': {'compound_code': '2FW9+4W Duanzhou District, Zhaoqing, Guangdong Province, China', 'global_code': '7PMJ2FW9+4W'}, 'reference': 'ChIJlQKLQ3nQqTYRuHeuatxCj34', 'scope': 'GOOGLE', 'types': ['lodging', 'point_of_interest', 'establishment'], 'vicinity': '63 Zheng Dong Lu, Duan Zhou Qu, Zhao Qing Shi'}, {'business_status': 'OPERATIONAL', 'geometry': {'location': {'lat': 23.05342, 'lng': 112.46994}, 'viewport': {'northeast': {'lat': 23.0547931802915, 'lng': 112.4712618802915}, 'southwest': {'lat': 23.05209521970849, 'lng': 112.4685639197085}}}, 'icon': 'https://maps.gstatic.com/mapfiles/place_api/icons/v1/png_71/lodging-71.png', 'icon_background_color': '#909CE1', 'icon_mask_base_uri': 'https://maps.gstatic.com/mapfiles/place_api/icons/v2/hotel_pinlet', 'name': 'Lakeside Hotel', 'photos': [{'height': 3024, 'html_attributions': ['<a href=\"https://maps.google.com/maps/contrib/107233179180080462413\">文铁樵</a>'], 'photo_reference': 'AW30NDzmWo2ez-Avs_LO0cV8ufGifNDBKzSiHeGWjHUF6OF6TFHLnnjjvOqw8go1lGfFuOFcFzXRLICJc_2saDqPzaQYboOrWnIphmeXR20lQS2BdrtwJO2ZtSvJIcndSo6CAAXMtd2PCJN-MBcX0l6YkHVg4ItPqvX7odUWxvg6U14IpcLN', 'width': 3024}], 'place_id': 'ChIJh7Ugl2TQqTYRMKsa8qlRp3Q', 'plus_code': {'compound_code': '3F39+9X Duanzhou District, Zhaoqing, Guangdong Province, China', 'global_code': '7PMJ3F39+9X'}, 'rating': 5, 'reference': 'ChIJh7Ugl2TQqTYRMKsa8qlRp3Q', 'scope': 'GOOGLE', 'types': ['lodging', 'point_of_interest', 'establishment'], 'user_ratings_total': 1, 'vicinity': '82 天宁北路, Duan Zhou Qu, Zhao Qing Shi'}, {'business_status': 'OPERATIONAL', 'geometry': {'location': {'lat': 23.0509298, 'lng': 112.4775953}, 'viewport': {'northeast': {'lat': 23.0522337302915, 'lng': 112.4789435302915}, 'southwest': {'lat': 23.0495357697085, 'lng': 112.4762455697085}}}, 'icon': 'https://maps.gstatic.com/mapfiles/place_api/icons/v1/png_71/lodging-71.png', 'icon_background_color': '#909CE1', 'icon_mask_base_uri': 'https://maps.gstatic.com/mapfiles/place_api/icons/v2/hotel_pinlet', 'name': 'Sheraton Hotel', 'photos': [{'height': 3024, 'html_attributions': ['<a href=\"https://maps.google.com/maps/contrib/108918877316330357024\">李新泰</a>'], 'photo_reference': 'AW30NDzzL-ftHQzGn9189MrleQe9I8_4Ucf4iMPbDAC_bkbK99vh3aDoEJbjjlAVCJ3TJbefH_e1laZ41jpZAPNx6LEJ3j2l8imMnELim1uH0qqgxej4KKcYXmlvze-KwY4oyIg3gPkTVJApEPg88uYq60i1swhwMagHCk911beZRtWIvIb_', 'width': 4032}], 'place_id': 'ChIJy7RgD4jQqTYRnhrFe87ywsU', 'rating': 5, 'reference': 'ChIJy7RgD4jQqTYRnhrFe87ywsU', 'scope': 'GOOGLE', 'types': ['lodging', 'point_of_interest', 'establishment'], 'user_ratings_total': 1, 'vicinity': '3F2H+92H, Qin Tian Er Lu, Duan Zhou Qu, Zhao Qing Shi'}, {'business_status': 'OPERATIONAL', 'geometry': {'location': {'lat': 23.0557778, 'lng': 112.4744148}, 'viewport': {'northeast': {'lat': 23.0571556802915, 'lng': 112.4757493302915}, 'southwest': {'lat': 23.05445771970849, 'lng': 112.4730513697085}}}, 'icon': 'https://maps.gstatic.com/mapfiles/place_api/icons/v1/png_71/lodging-71.png', 'icon_background_color': '#909CE1', 'icon_mask_base_uri': 'https://maps.gstatic.com/mapfiles/place_api/icons/v2/hotel_pinlet', 'name': 'Youth Hotel', 'place_id': 'ChIJr_LLMGLQqTYRX8JXZPqXmYs', 'plus_code': {'compound_code': '3F4F+8Q Duanzhou District, Zhaoqing, Guangdong Province, China', 'global_code': '7PMJ3F4F+8Q'}, 'reference': 'ChIJr_LLMGLQqTYRX8JXZPqXmYs', 'scope': 'GOOGLE', 'types': ['lodging', 'point_of_interest', 'establishment'], 'vicinity': '17 Duan Zhou Si Lu, Duan Zhou Qu, Zhao Qing Shi'}, {'business_status': 'OPERATIONAL', 'geometry': {'location': {'lat': 23.0599864, 'lng': 112.4820721}, 'viewport': {'northeast': {'lat': 23.0614531302915, 'lng': 112.4834127802915}, 'southwest': {'lat': 23.0587551697085, 'lng': 112.4807148197085}}}, 'icon': 'https://maps.gstatic.com/mapfiles/place_api/icons/v1/png_71/lodging-71.png', 'icon_background_color': '#909CE1', 'icon_mask_base_uri': 'https://maps.gstatic.com/mapfiles/place_api/icons/v2/hotel_pinlet', 'name': '7 Days Inn', 'place_id': 'ChIJZbfRXIvQqTYR1Zw5nXy6M-E', 'rating': 3, 'reference': 'ChIJZbfRXIvQqTYR1Zw5nXy6M-E', 'scope': 'GOOGLE', 'types': ['lodging', 'point_of_interest', 'establishment'], 'user_ratings_total': 1, 'vicinity': '3F5J+XRW, 星湖大道景山岗村原景山楼, Xing Hu Da Dao, Duan Zhou Qu, Zhao Qing Shi'}, {'business_status': 'OPERATIONAL', 'geometry': {'location': {'lat': 23.053117, 'lng': 112.453398}, 'viewport': {'northeast': {'lat': 23.0543260802915, 'lng': 112.4547480802915}, 'southwest': {'lat': 23.0516281197085, 'lng': 112.4520501197085}}}, 'icon': 'https://maps.gstatic.com/mapfiles/place_api/icons/v1/png_71/lodging-71.png', 'icon_background_color': '#909CE1', 'icon_mask_base_uri': 'https://maps.gstatic.com/mapfiles/place_api/icons/v2/hotel_pinlet', 'name': 'Kingdo Hotel', 'place_id': 'ChIJaaOxtnLQqTYR5-GDR3GjpZg', 'plus_code': {'compound_code': '3F33+69 Duanzhou District, Zhaoqing, Guangdong Province, China', 'global_code': '7PMJ3F33+69'}, 'reference': 'ChIJaaOxtnLQqTYR5-GDR3GjpZg', 'scope': 'GOOGLE', 'types': ['lodging', 'point_of_interest', 'establishment'], 'vicinity': 'A幢, 27 端州六路, Duan Zhou Qu, Zhao Qing Shi'}, {'business_status': 'OPERATIONAL', 'geometry': {'location': {'lat': 23.0530841, 'lng': 112.4581853}, 'viewport': {'northeast': {'lat': 23.0543942302915, 'lng': 112.4595362802915}, 'southwest': {'lat': 23.0516962697085, 'lng': 112.4568383197085}}}, 'icon': 'https://maps.gstatic.com/mapfiles/place_api/icons/v1/png_71/lodging-71.png', 'icon_background_color': '#909CE1', 'icon_mask_base_uri': 'https://maps.gstatic.com/mapfiles/place_api/icons/v2/hotel_pinlet', 'name': 'Yuegao Hotel', 'place_id': 'ChIJPX6hCHLQqTYRAU67KQ2w35k', 'plus_code': {'compound_code': '3F35+67 Duanzhou District, Zhaoqing, Guangdong Province, China', 'global_code': '7PMJ3F35+67'}, 'reference': 'ChIJPX6hCHLQqTYRAU67KQ2w35k', 'scope': 'GOOGLE', 'types': ['lodging', 'point_of_interest', 'establishment'], 'vicinity': '8 Duan Zhou Liu Lu, Duan Zhou Qu, Zhao Qing Shi'}, {'business_status': 'OPERATIONAL', 'geometry': {'location': {'lat': 23.05047399999999, 'lng': 112.469014}, 'viewport': {'northeast': {'lat': 23.0518138302915, 'lng': 112.4704828802915}, 'southwest': {'lat': 23.04911586970849, 'lng': 112.4677849197085}}}, 'icon': 'https://maps.gstatic.com/mapfiles/place_api/icons/v1/png_71/lodging-71.png', 'icon_background_color': '#909CE1', 'icon_mask_base_uri': 'https://maps.gstatic.com/mapfiles/place_api/icons/v2/hotel_pinlet', 'name': '如家酒店连锁肇庆天宁北路店', 'photos': [{'height': 3024, 'html_attributions': ['<a href=\"https://maps.google.com/maps/contrib/111290609573642135593\">Fox Wu</a>'], 'photo_reference': 'AW30NDyIK-fJ2kAurvjZ19FG1iH3hBIurZyxszzgNvalJmgqCFGRJ2A8Z8S_vmwaZ0aInNWt2NXvOriPwKCqhF7VzWOaz7AKfWKLHnv9rGA3fc3QFaqbMLjFmHfzMz3MbA6SwrARHl6V_oKc9v_STymNR1wmQbL1WsQwE1cxROGQPKelo3TZ', 'width': 4032}], 'place_id': 'ChIJ2fAAPnvQqTYRr4-JUHSrht4', 'plus_code': {'compound_code': '3F29+5J Duanzhou District, Zhaoqing, Guangdong Province, China', 'global_code': '7PMJ3F29+5J'}, 'rating': 3, 'reference': 'ChIJ2fAAPnvQqTYRr4-JUHSrht4', 'scope': 'GOOGLE', 'types': ['lodging', 'point_of_interest', 'establishment'], 'user_ratings_total': 1, 'vicinity': '天宁北路73号端州体育馆侧, Duan Zhou Qu, Zhao Qing Shi'}, {'business_status': 'OPERATIONAL', 'geometry': {'location': {'lat': 23.049134, 'lng': 112.474061}, 'viewport': {'northeast': {'lat': 23.0504822802915, 'lng': 112.4753609802915}, 'southwest': {'lat': 23.0477843197085, 'lng': 112.4726630197085}}}, 'icon': 'https://maps.gstatic.com/mapfiles/place_api/icons/v1/png_71/lodging-71.png', 'icon_background_color': '#909CE1', 'icon_mask_base_uri': 'https://maps.gstatic.com/mapfiles/place_api/icons/v2/hotel_pinlet', 'name': 'Friendship Hotel', 'place_id': 'ChIJHw-EHH3QqTYRWOo5hGAqJRE', 'reference': 'ChIJHw-EHH3QqTYRWOo5hGAqJRE', 'scope': 'GOOGLE', 'types': ['lodging', 'point_of_interest', 'establishment'], 'vicinity': '2FXF+MJ3, Wen Ming Lu, Duan Zhou Qu, Zhao Qing Shi'}, {'business_status': 'OPERATIONAL', 'geometry': {'location': {'lat': 23.0460025, 'lng': 112.4669082}, 'viewport': {'northeast': {'lat': 23.0473939302915, 'lng': 112.4682729802915}, 'southwest': {'lat': 23.0446959697085, 'lng': 112.4655750197085}}}, 'icon': 'https://maps.gstatic.com/mapfiles/place_api/icons/v1/png_71/lodging-71.png', 'icon_background_color': '#909CE1', 'icon_mask_base_uri': 'https://maps.gstatic.com/mapfiles/place_api/icons/v2/hotel_pinlet', 'name': 'Dongsheng Hostel', 'place_id': 'ChIJhYQ-jnnQqTYRYjjonCpVX_A', 'plus_code': {'compound_code': '2FW8+CQ Duanzhou District, Zhaoqing, Guangdong Province, China', 'global_code': '7PMJ2FW8+CQ'}, 'reference': 'ChIJhYQ-jnnQqTYRYjjonCpVX_A', 'scope': 'GOOGLE', 'types': ['lodging', 'point_of_interest', 'establishment'], 'vicinity': '正东路南方购物中心4层, Zheng Dong Lu, Duan Zhou Qu, Zhao Qing Shi'}]\n"
     ]
    }
   ],
   "source": [
    "coord = f\"{23.0512}, {112.4597}\"\n",
    "radius = 5000\n",
    "hotel = \"lodging\"\n",
    "\n",
    "\n",
    "parameters = {\n",
    "    \"location\": coord,\n",
    "    \"radius\": radius,\n",
    "    \"type\": hotel,\n",
    "    \"key\": g_key\n",
    "}\n",
    "\n",
    "\n",
    "base_url = \"https://maps.googleapis.com/maps/api/place/nearbysearch/json\"\n",
    "\n",
    "response = requests.get(base_url, params=parameters)\n",
    "data = response.json()\n",
    "print(data[\"results\"])"
   ]
  },
  {
   "cell_type": "code",
   "execution_count": 21,
   "metadata": {},
   "outputs": [
    {
     "name": "stdout",
     "output_type": "stream",
     "text": [
      "Zhaoqing\n"
     ]
    }
   ],
   "source": [
    "Hotels = []\n",
    "Ratings = []\n",
    "Location = []\n",
    "Cities = []\n",
    "Countries = []\n",
    "Lat = []\n",
    "Long = []\n",
    "\n",
    "for _, row in df2.iterrows():\n",
    "    print(row.City)\n",
    "\n",
    "    target_coordinates = f\"{row.Latitude}, {row.Longitude}\"\n",
    "    target_search = \"\"\n",
    "\n",
    "    target_radius = 5000\n",
    "    target_type = \"lodging\"\n",
    "\n",
    "    params = {\n",
    "        \"location\": target_coordinates,\n",
    "        \"radius\": target_radius,\n",
    "        \"type\": target_type,\n",
    "        \"key\": g_key\n",
    "    }\n",
    "\n",
    "    base_url = \"https://maps.googleapis.com/maps/api/place/nearbysearch/json\"\n",
    "    response = requests.get(base_url, params=parameters)\n",
    "    data = response.json()\n",
    "    hotel = data[\"results\"][0][\"name\"]\n",
    "    address = data[\"results\"][0][\"vicinity\"]\n",
    "    rating = data[\"results\"][0][\"rating\"]\n",
    "    \n",
    "    # put it all in a list\n",
    "    Hotels.append(hotel)\n",
    "    Ratings.append(rating)\n",
    "    Location.append(address)\n",
    "    Cities.append(row.City)\n",
    "    Countries.append(row.Country)\n",
    "    Lat.append(row.Latitude)\n",
    "    Long.append(row.Longitude)"
   ]
  },
  {
   "cell_type": "code",
   "execution_count": 23,
   "metadata": {},
   "outputs": [
    {
     "data": {
      "text/html": [
       "<div>\n",
       "<style scoped>\n",
       "    .dataframe tbody tr th:only-of-type {\n",
       "        vertical-align: middle;\n",
       "    }\n",
       "\n",
       "    .dataframe tbody tr th {\n",
       "        vertical-align: top;\n",
       "    }\n",
       "\n",
       "    .dataframe thead th {\n",
       "        text-align: right;\n",
       "    }\n",
       "</style>\n",
       "<table border=\"1\" class=\"dataframe\">\n",
       "  <thead>\n",
       "    <tr style=\"text-align: right;\">\n",
       "      <th></th>\n",
       "      <th>City</th>\n",
       "      <th>Country</th>\n",
       "      <th>Latitude</th>\n",
       "      <th>Longitude</th>\n",
       "      <th>Hotel</th>\n",
       "      <th>Address</th>\n",
       "      <th>Rating</th>\n",
       "    </tr>\n",
       "  </thead>\n",
       "  <tbody>\n",
       "    <tr>\n",
       "      <th>0</th>\n",
       "      <td>Zhaoqing</td>\n",
       "      <td>CN</td>\n",
       "      <td>23.0512</td>\n",
       "      <td>112.4597</td>\n",
       "      <td>七星岩旅游度假区</td>\n",
       "      <td>China</td>\n",
       "      <td>4.4</td>\n",
       "    </tr>\n",
       "  </tbody>\n",
       "</table>\n",
       "</div>"
      ],
      "text/plain": [
       "       City Country  Latitude  Longitude     Hotel Address  Rating\n",
       "0  Zhaoqing      CN   23.0512   112.4597  七星岩旅游度假区   China     4.4"
      ]
     },
     "execution_count": 23,
     "metadata": {},
     "output_type": "execute_result"
    }
   ],
   "source": [
    "hoteldf = pd.DataFrame()\n",
    "hoteldf['City'] = Cities\n",
    "hoteldf['Country'] = Countries\n",
    "hoteldf['Latitude'] = Lat\n",
    "hoteldf['Longitude'] = Long\n",
    "hoteldf['Hotel'] = Hotels\n",
    "hoteldf['Address'] = Location\n",
    "hoteldf['Rating'] = Ratings\n",
    "\n",
    "hoteldf"
   ]
  },
  {
   "cell_type": "code",
   "execution_count": 26,
   "metadata": {},
   "outputs": [],
   "source": [
    "# NOTE: Do not change any of the code in this cell\n",
    "\n",
    "# Using the template add the hotel marks to the heatmap\n",
    "info_box_template = \"\"\"\n",
    "<dl>\n",
    "<dt>Name</dt><dd>{Hotel}</dd>\n",
    "<dt>City</dt><dd>{City}</dd>\n",
    "<dt>Country</dt><dd>{Country}</dd>\n",
    "</dl>\n",
    "\"\"\"\n",
    "# Store the DataFrame Row\n",
    "# NOTE: be sure to update with your DataFrame name\n",
    "hotel_info = [info_box_template.format(**row) for index, row in hoteldf.iterrows()]\n",
    "locations = hoteldf[[\"Latitude\", \"Longitude\"]]"
   ]
  },
  {
   "cell_type": "code",
   "execution_count": 31,
   "metadata": {},
   "outputs": [
    {
     "data": {
      "application/vnd.jupyter.widget-view+json": {
       "model_id": "00006c7d258b42dbb452da789816e973",
       "version_major": 2,
       "version_minor": 0
      },
      "text/plain": [
       "Figure(layout=FigureLayout(height='420px'))"
      ]
     },
     "metadata": {},
     "output_type": "display_data"
    }
   ],
   "source": [
    "marker_layer = gmaps.marker_layer(locations, info_box_content=hotel_info)\n",
    "heatmap_layer = gmaps.heatmap_layer(\n",
    "    locations, weights=df2['Humidity'],\n",
    "    max_intensity=20, point_radius=5\n",
    ")\n",
    "\n",
    "\n",
    "fig = gmaps.figure()\n",
    "fig.add_layer(marker_layer)\n",
    "fig.add_layer(heatmap_layer)\n",
    "\n",
    "\n",
    "fig"
   ]
  },
  {
   "cell_type": "code",
   "execution_count": null,
   "metadata": {},
   "outputs": [],
   "source": []
  }
 ],
 "metadata": {
  "kernelspec": {
   "display_name": "Python 3 (ipykernel)",
   "language": "python",
   "name": "python3"
  },
  "language_info": {
   "codemirror_mode": {
    "name": "ipython",
    "version": 3
   },
   "file_extension": ".py",
   "mimetype": "text/x-python",
   "name": "python",
   "nbconvert_exporter": "python",
   "pygments_lexer": "ipython3",
   "version": "3.9.12"
  },
  "latex_envs": {
   "LaTeX_envs_menu_present": true,
   "autoclose": false,
   "autocomplete": true,
   "bibliofile": "biblio.bib",
   "cite_by": "apalike",
   "current_citInitial": 1,
   "eqLabelWithNumbers": true,
   "eqNumInitial": 1,
   "hotkeys": {
    "equation": "Ctrl-E",
    "itemize": "Ctrl-I"
   },
   "labels_anchors": false,
   "latex_user_defs": false,
   "report_style_numbering": false,
   "user_envs_cfg": false
  }
 },
 "nbformat": 4,
 "nbformat_minor": 4
}
