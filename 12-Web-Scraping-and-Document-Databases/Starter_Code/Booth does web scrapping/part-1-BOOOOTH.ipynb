{
 "cells": [
  {
   "cell_type": "markdown",
   "metadata": {},
   "source": [
    "# Module 12 Challenge\n",
    "## Deliverable 1: Scrape Titles and Preview Text from Mars News"
   ]
  },
  {
   "cell_type": "code",
   "execution_count": 6,
   "metadata": {},
   "outputs": [],
   "source": [
    "# Import Splinter and BeautifulSoup\n",
    "from splinter import Browser\n",
    "from bs4 import BeautifulSoup\n",
    "from webdriver_manager.chrome import ChromeDriverManager\n",
    "import pandas as pd"
   ]
  },
  {
   "cell_type": "code",
   "execution_count": 2,
   "metadata": {
    "scrolled": true
   },
   "outputs": [
    {
     "name": "stderr",
     "output_type": "stream",
     "text": [
      "[WDM] - Current google-chrome version is 108.0.5359\n",
      "[WDM] - Get LATEST driver version for 108.0.5359\n",
      "[WDM] - Get LATEST driver version for 108.0.5359\n"
     ]
    },
    {
     "name": "stdout",
     "output_type": "stream",
     "text": [
      " \n"
     ]
    },
    {
     "name": "stderr",
     "output_type": "stream",
     "text": [
      "[WDM] - Trying to download new driver from http://chromedriver.storage.googleapis.com/108.0.5359.71/chromedriver_win32.zip\n",
      "[WDM] - Driver has been saved in cache [C:\\Users\\abooth\\.wdm\\drivers\\chromedriver\\win32\\108.0.5359.71]\n"
     ]
    }
   ],
   "source": [
    "executable_path = {'executable_path': ChromeDriverManager().install()}\n",
    "browser = Browser('chrome', **executable_path, headless=False)"
   ]
  },
  {
   "cell_type": "markdown",
   "metadata": {},
   "source": [
    "### Step 1: Visit the Website\n",
    "\n",
    "1. Use automated browsing to visit the [Mars NASA news site](https://redplanetscience.com). Inspect the page to identify which elements to scrape.\n",
    "\n",
    "      > **Hint** To identify which elements to scrape, you might want to inspect the page by using Chrome DevTools."
   ]
  },
  {
   "cell_type": "code",
   "execution_count": 3,
   "metadata": {},
   "outputs": [],
   "source": [
    "# Visit the Mars NASA news site: https://redplanetscience.com\n",
    "browser.visit(\"https://redplanetscience.com\")"
   ]
  },
  {
   "cell_type": "code",
   "execution_count": 4,
   "metadata": {},
   "outputs": [
    {
     "data": {
      "text/plain": [
       "'<html><head>\\n      <meta charset=\"utf-8\">\\n      <meta name=\"viewport\" content=\"width=device-width, initial-scale=1\">\\n      <link href=\"https://cdn.jsdelivr.net/npm/bootstrap@5.0.0-beta1/dist/css/bootstrap.min.css\" rel=\"stylesheet\" integrity=\"sha384-giJF6kkoqNQ00vy+HMDP7azOuL0xtbfIcaT9wjKHr8RbDVddVHyTfAAsrekwKmP1\" crossorigin=\"anonymous\">\\n      <link rel=\"stylesheet\" type=\"text/css\" href=\"css/font.css\">\\n      <link rel=\"stylesheet\" type=\"text/css\" href=\"css/app.css\">\\n      <link rel=\"stylesheet\" '"
      ]
     },
     "execution_count": 4,
     "metadata": {},
     "output_type": "execute_result"
    }
   ],
   "source": [
    "html = browser.html\n",
    "html[0:500]"
   ]
  },
  {
   "cell_type": "markdown",
   "metadata": {},
   "source": [
    "### Step 2: Scrape the Website\n",
    "\n",
    "Create a Beautiful Soup object and use it to extract text elements from the website."
   ]
  },
  {
   "cell_type": "code",
   "execution_count": 7,
   "metadata": {},
   "outputs": [
    {
     "data": {
      "text/plain": [
       "bs4.BeautifulSoup"
      ]
     },
     "execution_count": 7,
     "metadata": {},
     "output_type": "execute_result"
    }
   ],
   "source": [
    "# Create a Beautiful Soup object\n",
    "tomato_basil = BeautifulSoup(html)\n",
    "type(tomato_basil)"
   ]
  },
  {
   "cell_type": "code",
   "execution_count": 8,
   "metadata": {},
   "outputs": [
    {
     "data": {
      "text/plain": [
       "15"
      ]
     },
     "execution_count": 8,
     "metadata": {},
     "output_type": "execute_result"
    }
   ],
   "source": [
    "# Extract all the text elements\n",
    "articles = tomato_basil.find_all(\"div\", {\"class\": \"list_text\"})\n",
    "len(articles)"
   ]
  },
  {
   "cell_type": "code",
   "execution_count": 9,
   "metadata": {},
   "outputs": [
    {
     "data": {
      "text/plain": [
       "<div class=\"list_text\">\n",
       "<div class=\"list_date\">December 22, 2022</div>\n",
       "<div class=\"content_title\">NASA Moves Forward With Campaign to Return Mars Samples to Earth</div>\n",
       "<div class=\"article_teaser_body\">During this next phase, the program will mature critical technologies and make critical design decisions as well as assess industry partnerships.</div>\n",
       "</div>"
      ]
     },
     "execution_count": 9,
     "metadata": {},
     "output_type": "execute_result"
    }
   ],
   "source": [
    "article = articles[0]\n",
    "article"
   ]
  },
  {
   "cell_type": "code",
   "execution_count": 11,
   "metadata": {},
   "outputs": [
    {
     "data": {
      "text/plain": [
       "'December 22, 2022'"
      ]
     },
     "execution_count": 11,
     "metadata": {},
     "output_type": "execute_result"
    }
   ],
   "source": [
    "article.find(\"div\", {\"class\": \"list_date\"}).text"
   ]
  },
  {
   "cell_type": "code",
   "execution_count": 12,
   "metadata": {},
   "outputs": [
    {
     "data": {
      "text/plain": [
       "'NASA Moves Forward With Campaign to Return Mars Samples to Earth'"
      ]
     },
     "execution_count": 12,
     "metadata": {},
     "output_type": "execute_result"
    }
   ],
   "source": [
    "article.find(\"div\", {\"class\": \"content_title\"}).text"
   ]
  },
  {
   "cell_type": "code",
   "execution_count": 13,
   "metadata": {},
   "outputs": [
    {
     "data": {
      "text/plain": [
       "'During this next phase, the program will mature critical technologies and make critical design decisions as well as assess industry partnerships.'"
      ]
     },
     "execution_count": 13,
     "metadata": {},
     "output_type": "execute_result"
    }
   ],
   "source": [
    "article.find(\"div\", {\"class\": \"article_teaser_body\"}).text"
   ]
  },
  {
   "cell_type": "code",
   "execution_count": null,
   "metadata": {},
   "outputs": [],
   "source": []
  },
  {
   "cell_type": "markdown",
   "metadata": {},
   "source": [
    "### Step 3: Store the Results\n",
    "\n",
    "Extract the titles and preview text of the news articles that you scraped. Store the scraping results in Python data structures as follows:\n",
    "\n",
    "* Store each title-and-preview pair in a Python dictionary. And, give each dictionary two keys: `title` and `preview`. An example is the following:\n",
    "\n",
    "  ```python\n",
    "  {'title': \"Mars Rover Begins Mission!\", \n",
    "        'preview': \"NASA's Mars Rover begins a multiyear mission to collect data about the little-explored planet.\"}\n",
    "  ```\n",
    "\n",
    "* Store all the dictionaries in a Python list.\n",
    "\n",
    "* Print the list in your notebook."
   ]
  },
  {
   "cell_type": "code",
   "execution_count": null,
   "metadata": {},
   "outputs": [],
   "source": [
    "# Create an empty list to store the dictionaries\n"
   ]
  },
  {
   "cell_type": "code",
   "execution_count": 14,
   "metadata": {},
   "outputs": [
    {
     "data": {
      "text/html": [
       "<div>\n",
       "<style scoped>\n",
       "    .dataframe tbody tr th:only-of-type {\n",
       "        vertical-align: middle;\n",
       "    }\n",
       "\n",
       "    .dataframe tbody tr th {\n",
       "        vertical-align: top;\n",
       "    }\n",
       "\n",
       "    .dataframe thead th {\n",
       "        text-align: right;\n",
       "    }\n",
       "</style>\n",
       "<table border=\"1\" class=\"dataframe\">\n",
       "  <thead>\n",
       "    <tr style=\"text-align: right;\">\n",
       "      <th></th>\n",
       "      <th>date</th>\n",
       "      <th>title</th>\n",
       "      <th>text</th>\n",
       "    </tr>\n",
       "  </thead>\n",
       "  <tbody>\n",
       "    <tr>\n",
       "      <th>0</th>\n",
       "      <td>December 22, 2022</td>\n",
       "      <td>NASA Moves Forward With Campaign to Return Mar...</td>\n",
       "      <td>During this next phase, the program will matur...</td>\n",
       "    </tr>\n",
       "    <tr>\n",
       "      <th>1</th>\n",
       "      <td>December 21, 2022</td>\n",
       "      <td>Meet the People Behind NASA's Perseverance Rover</td>\n",
       "      <td>These are the scientists and engineers who bui...</td>\n",
       "    </tr>\n",
       "    <tr>\n",
       "      <th>2</th>\n",
       "      <td>December 19, 2022</td>\n",
       "      <td>Mars Is Getting a New Robotic Meteorologist</td>\n",
       "      <td>Sensors on NASA's Perseverance will help prepa...</td>\n",
       "    </tr>\n",
       "    <tr>\n",
       "      <th>3</th>\n",
       "      <td>December 18, 2022</td>\n",
       "      <td>Heat and Dust Help Launch Martian Water Into S...</td>\n",
       "      <td>Scientists using an instrument aboard NASA’s M...</td>\n",
       "    </tr>\n",
       "    <tr>\n",
       "      <th>4</th>\n",
       "      <td>December 16, 2022</td>\n",
       "      <td>Mars Helicopter Attached to NASA's Perseveranc...</td>\n",
       "      <td>The team also fueled the rover's sky crane to ...</td>\n",
       "    </tr>\n",
       "    <tr>\n",
       "      <th>5</th>\n",
       "      <td>December 12, 2022</td>\n",
       "      <td>How NASA's Mars Helicopter Will Reach the Red ...</td>\n",
       "      <td>The small craft will seek to prove that powere...</td>\n",
       "    </tr>\n",
       "    <tr>\n",
       "      <th>6</th>\n",
       "      <td>December 10, 2022</td>\n",
       "      <td>NASA's Mars 2020 Rover Tests Descent-Stage Sep...</td>\n",
       "      <td>A crane lifts the rocket-powered descent stage...</td>\n",
       "    </tr>\n",
       "    <tr>\n",
       "      <th>7</th>\n",
       "      <td>December 7, 2022</td>\n",
       "      <td>NASA's Perseverance Rover Bringing 3D-Printed ...</td>\n",
       "      <td>For hobbyists and makers, 3D printing expands ...</td>\n",
       "    </tr>\n",
       "    <tr>\n",
       "      <th>8</th>\n",
       "      <td>December 7, 2022</td>\n",
       "      <td>NASA's InSight Flexes Its Arm While Its 'Mole'...</td>\n",
       "      <td>Now that the lander's robotic arm has helped t...</td>\n",
       "    </tr>\n",
       "    <tr>\n",
       "      <th>9</th>\n",
       "      <td>December 4, 2022</td>\n",
       "      <td>Two of a Space Kind: Apollo 12 and Mars 2020</td>\n",
       "      <td>Apollo 12 and the upcoming Mars 2020 mission m...</td>\n",
       "    </tr>\n",
       "    <tr>\n",
       "      <th>10</th>\n",
       "      <td>December 4, 2022</td>\n",
       "      <td>A New Video Captures the Science of NASA's Per...</td>\n",
       "      <td>With a targeted launch date of July 30, the ne...</td>\n",
       "    </tr>\n",
       "    <tr>\n",
       "      <th>11</th>\n",
       "      <td>December 2, 2022</td>\n",
       "      <td>NASA's Curiosity Keeps Rolling As Team Operate...</td>\n",
       "      <td>The team has learned to meet new challenges as...</td>\n",
       "    </tr>\n",
       "    <tr>\n",
       "      <th>12</th>\n",
       "      <td>November 26, 2022</td>\n",
       "      <td>NASA Engineers Checking InSight's Weather Sensors</td>\n",
       "      <td>An electronics issue is suspected to be preven...</td>\n",
       "    </tr>\n",
       "    <tr>\n",
       "      <th>13</th>\n",
       "      <td>November 25, 2022</td>\n",
       "      <td>Join NASA for the Launch of the Mars 2020 Pers...</td>\n",
       "      <td>No matter where you live, choose from a menu o...</td>\n",
       "    </tr>\n",
       "    <tr>\n",
       "      <th>14</th>\n",
       "      <td>November 23, 2022</td>\n",
       "      <td>3 Things We've Learned From NASA's Mars InSight</td>\n",
       "      <td>Scientists are finding new mysteries since the...</td>\n",
       "    </tr>\n",
       "  </tbody>\n",
       "</table>\n",
       "</div>"
      ],
      "text/plain": [
       "                 date                                              title  \\\n",
       "0   December 22, 2022  NASA Moves Forward With Campaign to Return Mar...   \n",
       "1   December 21, 2022   Meet the People Behind NASA's Perseverance Rover   \n",
       "2   December 19, 2022        Mars Is Getting a New Robotic Meteorologist   \n",
       "3   December 18, 2022  Heat and Dust Help Launch Martian Water Into S...   \n",
       "4   December 16, 2022  Mars Helicopter Attached to NASA's Perseveranc...   \n",
       "5   December 12, 2022  How NASA's Mars Helicopter Will Reach the Red ...   \n",
       "6   December 10, 2022  NASA's Mars 2020 Rover Tests Descent-Stage Sep...   \n",
       "7    December 7, 2022  NASA's Perseverance Rover Bringing 3D-Printed ...   \n",
       "8    December 7, 2022  NASA's InSight Flexes Its Arm While Its 'Mole'...   \n",
       "9    December 4, 2022       Two of a Space Kind: Apollo 12 and Mars 2020   \n",
       "10   December 4, 2022  A New Video Captures the Science of NASA's Per...   \n",
       "11   December 2, 2022  NASA's Curiosity Keeps Rolling As Team Operate...   \n",
       "12  November 26, 2022  NASA Engineers Checking InSight's Weather Sensors   \n",
       "13  November 25, 2022  Join NASA for the Launch of the Mars 2020 Pers...   \n",
       "14  November 23, 2022   3 Things We've Learned From NASA's Mars InSight    \n",
       "\n",
       "                                                 text  \n",
       "0   During this next phase, the program will matur...  \n",
       "1   These are the scientists and engineers who bui...  \n",
       "2   Sensors on NASA's Perseverance will help prepa...  \n",
       "3   Scientists using an instrument aboard NASA’s M...  \n",
       "4   The team also fueled the rover's sky crane to ...  \n",
       "5   The small craft will seek to prove that powere...  \n",
       "6   A crane lifts the rocket-powered descent stage...  \n",
       "7   For hobbyists and makers, 3D printing expands ...  \n",
       "8   Now that the lander's robotic arm has helped t...  \n",
       "9   Apollo 12 and the upcoming Mars 2020 mission m...  \n",
       "10  With a targeted launch date of July 30, the ne...  \n",
       "11  The team has learned to meet new challenges as...  \n",
       "12  An electronics issue is suspected to be preven...  \n",
       "13  No matter where you live, choose from a menu o...  \n",
       "14  Scientists are finding new mysteries since the...  "
      ]
     },
     "execution_count": 14,
     "metadata": {},
     "output_type": "execute_result"
    }
   ],
   "source": [
    "# Loop through the text elements\n",
    "# Extract the title and preview text from the elements\n",
    "# Store each title and preview pair in a dictionary\n",
    "# Add the dictionary to the list\n",
    "\n",
    "data = []\n",
    "\n",
    "for article in articles:\n",
    "    date = article.find(\"div\", {\"class\": \"list_date\"}).text\n",
    "    title = article.find(\"div\", {\"class\": \"content_title\"}).text\n",
    "    text = article.find(\"div\", {\"class\": \"article_teaser_body\"}).text\n",
    "    \n",
    "    row = {}\n",
    "    row[\"date\"] = date\n",
    "    row[\"title\"] = title\n",
    "    row[\"text\"] = text\n",
    "\n",
    "    data.append(row)\n",
    "    \n",
    "df = pd.DataFrame(data)\n",
    "df"
   ]
  },
  {
   "cell_type": "code",
   "execution_count": null,
   "metadata": {},
   "outputs": [],
   "source": [
    "# Print the list to confirm success\n"
   ]
  },
  {
   "cell_type": "code",
   "execution_count": 15,
   "metadata": {},
   "outputs": [],
   "source": [
    "browser.quit()"
   ]
  },
  {
   "cell_type": "markdown",
   "metadata": {},
   "source": [
    "### (Optional) Step 4: Export the Data\n",
    "\n",
    "Optionally, store the scraped data in a file or database (to ease sharing the data with others). To do so, export the scraped data to either a JSON file or a MongoDB database."
   ]
  },
  {
   "cell_type": "code",
   "execution_count": 17,
   "metadata": {},
   "outputs": [],
   "source": [
    "# Export data to JSON\n",
    "df.to_json(\"mars_news.json\", orient=\"records\")"
   ]
  },
  {
   "cell_type": "code",
   "execution_count": null,
   "metadata": {},
   "outputs": [],
   "source": [
    "# Export data to MongoDB\n"
   ]
  }
 ],
 "metadata": {
  "kernelspec": {
   "display_name": "Python 3 (ipykernel)",
   "language": "python",
   "name": "python3"
  },
  "language_info": {
   "codemirror_mode": {
    "name": "ipython",
    "version": 3
   },
   "file_extension": ".py",
   "mimetype": "text/x-python",
   "name": "python",
   "nbconvert_exporter": "python",
   "pygments_lexer": "ipython3",
   "version": "3.7.3"
  }
 },
 "nbformat": 4,
 "nbformat_minor": 4
}
