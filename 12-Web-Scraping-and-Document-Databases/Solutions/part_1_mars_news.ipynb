{
 "cells": [
  {
   "cell_type": "markdown",
   "metadata": {},
   "source": [
    "# Module 12 Challenge\n",
    "## Deliverable 1: Scrape Titles and Preview Text from Mars News"
   ]
  },
  {
   "cell_type": "code",
   "execution_count": 3,
   "metadata": {},
   "outputs": [],
   "source": [
    "# Import Splinter and BeautifulSoup\n",
    "from splinter import Browser\n",
    "from bs4 import BeautifulSoup\n",
    "from webdriver_manager.chrome import ChromeDriverManager\n",
    "import pandas as pd"
   ]
  },
  {
   "cell_type": "code",
   "execution_count": 2,
   "metadata": {
    "scrolled": true
   },
   "outputs": [
    {
     "name": "stderr",
     "output_type": "stream",
     "text": [
      "[WDM] - Downloading: 100%|████████████████████████████████████████████████████████| 6.58M/6.58M [00:00<00:00, 74.4MB/s]\n"
     ]
    }
   ],
   "source": [
    "executable_path = {'executable_path': ChromeDriverManager().install()}\n",
    "browser = Browser('chrome', **executable_path, headless=False)"
   ]
  },
  {
   "cell_type": "markdown",
   "metadata": {},
   "source": [
    "### Step 1: Visit the Website\n",
    "\n",
    "1. Use automated browsing to visit the [Mars NASA news site](https://redplanetscience.com). Inspect the page to identify which elements to scrape.\n",
    "\n",
    "      > **Hint** To identify which elements to scrape, you might want to inspect the page by using Chrome DevTools."
   ]
  },
  {
   "cell_type": "code",
   "execution_count": 5,
   "metadata": {},
   "outputs": [],
   "source": [
    "# Visit the Mars NASA news site: https://redplanetscience.com\n",
    "browser.visit(\"https://redplanetscience.com\")"
   ]
  },
  {
   "cell_type": "code",
   "execution_count": 6,
   "metadata": {},
   "outputs": [
    {
     "data": {
      "text/plain": [
       "'<html><head>\\n      <meta charset=\"utf-8\">\\n      <meta name=\"viewport\" content=\"width=device-width, initial-scale=1\">\\n      <link href=\"https://cdn.jsdelivr.net/npm/bootstrap@5.0.0-beta1/dist/css/bootstrap.min.css\" rel=\"stylesheet\" integrity=\"sha384-giJF6kkoqNQ00vy+HMDP7azOuL0xtbfIcaT9wjKHr8RbDVddVHyTfAAsrekwKmP1\" crossorigin=\"anonymous\">\\n      <link rel=\"stylesheet\" type=\"text/css\" href=\"css/font.css\">\\n      <link rel=\"stylesheet\" type=\"text/css\" href=\"css/app.css\">\\n      <link rel=\"stylesheet\" '"
      ]
     },
     "execution_count": 6,
     "metadata": {},
     "output_type": "execute_result"
    }
   ],
   "source": [
    "html = browser.html\n",
    "html[0:500]"
   ]
  },
  {
   "cell_type": "markdown",
   "metadata": {},
   "source": [
    "### Step 2: Scrape the Website\n",
    "\n",
    "Create a Beautiful Soup object and use it to extract text elements from the website."
   ]
  },
  {
   "cell_type": "code",
   "execution_count": 7,
   "metadata": {},
   "outputs": [
    {
     "data": {
      "text/plain": [
       "bs4.BeautifulSoup"
      ]
     },
     "execution_count": 7,
     "metadata": {},
     "output_type": "execute_result"
    }
   ],
   "source": [
    "# Create a Beautiful Soup object\n",
    "loaded_potato = BeautifulSoup(html)\n",
    "type(loaded_potato)"
   ]
  },
  {
   "cell_type": "code",
   "execution_count": 9,
   "metadata": {},
   "outputs": [
    {
     "data": {
      "text/plain": [
       "15"
      ]
     },
     "execution_count": 9,
     "metadata": {},
     "output_type": "execute_result"
    }
   ],
   "source": [
    "# Extract all the text elements\n",
    "articles = loaded_potato.find_all(\"div\",{\"class\":\"list_text\"})\n",
    "len(articles)"
   ]
  },
  {
   "cell_type": "code",
   "execution_count": 10,
   "metadata": {},
   "outputs": [
    {
     "data": {
      "text/plain": [
       "<div class=\"list_text\">\n",
       "<div class=\"list_date\">January 13, 2023</div>\n",
       "<div class=\"content_title\">NASA's Perseverance Rover Will Peer Beneath Mars' Surface </div>\n",
       "<div class=\"article_teaser_body\">The agency's newest rover will use the first ground-penetrating radar instrument on the Martian surface to help search for signs of past microbial life. </div>\n",
       "</div>"
      ]
     },
     "execution_count": 10,
     "metadata": {},
     "output_type": "execute_result"
    }
   ],
   "source": [
    "article = articles[0]\n",
    "article"
   ]
  },
  {
   "cell_type": "code",
   "execution_count": 11,
   "metadata": {},
   "outputs": [
    {
     "data": {
      "text/plain": [
       "'January 13, 2023'"
      ]
     },
     "execution_count": 11,
     "metadata": {},
     "output_type": "execute_result"
    }
   ],
   "source": [
    "article.find(\"div\", {\"class\":\"list_date\"}).text"
   ]
  },
  {
   "cell_type": "code",
   "execution_count": 12,
   "metadata": {},
   "outputs": [
    {
     "data": {
      "text/plain": [
       "\"NASA's Perseverance Rover Will Peer Beneath Mars' Surface \""
      ]
     },
     "execution_count": 12,
     "metadata": {},
     "output_type": "execute_result"
    }
   ],
   "source": [
    "article.find(\"div\", {\"class\":\"content_title\"}).text"
   ]
  },
  {
   "cell_type": "code",
   "execution_count": 13,
   "metadata": {},
   "outputs": [
    {
     "data": {
      "text/plain": [
       "\"The agency's newest rover will use the first ground-penetrating radar instrument on the Martian surface to help search for signs of past microbial life. \""
      ]
     },
     "execution_count": 13,
     "metadata": {},
     "output_type": "execute_result"
    }
   ],
   "source": [
    "article.find(\"div\", {\"class\":\"article_teaser_body\"}).text"
   ]
  },
  {
   "cell_type": "code",
   "execution_count": null,
   "metadata": {},
   "outputs": [],
   "source": []
  },
  {
   "cell_type": "markdown",
   "metadata": {},
   "source": [
    "### Step 3: Store the Results\n",
    "\n",
    "Extract the titles and preview text of the news articles that you scraped. Store the scraping results in Python data structures as follows:\n",
    "\n",
    "* Store each title-and-preview pair in a Python dictionary. And, give each dictionary two keys: `title` and `preview`. An example is the following:\n",
    "\n",
    "  ```python\n",
    "  {'title': \"Mars Rover Begins Mission!\", \n",
    "        'preview': \"NASA's Mars Rover begins a multiyear mission to collect data about the little-explored planet.\"}\n",
    "  ```\n",
    "\n",
    "* Store all the dictionaries in a Python list.\n",
    "\n",
    "* Print the list in your notebook."
   ]
  },
  {
   "cell_type": "code",
   "execution_count": 14,
   "metadata": {},
   "outputs": [],
   "source": [
    "# Create an empty list to store the dictionaries\n",
    "data = []"
   ]
  },
  {
   "cell_type": "code",
   "execution_count": 17,
   "metadata": {},
   "outputs": [
    {
     "data": {
      "text/html": [
       "<div>\n",
       "<style scoped>\n",
       "    .dataframe tbody tr th:only-of-type {\n",
       "        vertical-align: middle;\n",
       "    }\n",
       "\n",
       "    .dataframe tbody tr th {\n",
       "        vertical-align: top;\n",
       "    }\n",
       "\n",
       "    .dataframe thead th {\n",
       "        text-align: right;\n",
       "    }\n",
       "</style>\n",
       "<table border=\"1\" class=\"dataframe\">\n",
       "  <thead>\n",
       "    <tr style=\"text-align: right;\">\n",
       "      <th></th>\n",
       "      <th>date</th>\n",
       "      <th>title</th>\n",
       "      <th>text</th>\n",
       "    </tr>\n",
       "  </thead>\n",
       "  <tbody>\n",
       "    <tr>\n",
       "      <th>0</th>\n",
       "      <td>January 13, 2023</td>\n",
       "      <td>NASA's Perseverance Rover Will Peer Beneath Ma...</td>\n",
       "      <td>The agency's newest rover will use the first g...</td>\n",
       "    </tr>\n",
       "    <tr>\n",
       "      <th>1</th>\n",
       "      <td>January 12, 2023</td>\n",
       "      <td>Heat and Dust Help Launch Martian Water Into S...</td>\n",
       "      <td>Scientists using an instrument aboard NASA’s M...</td>\n",
       "    </tr>\n",
       "    <tr>\n",
       "      <th>2</th>\n",
       "      <td>January 12, 2023</td>\n",
       "      <td>NASA to Broadcast Mars 2020 Perseverance Launc...</td>\n",
       "      <td>Starting July 27, news activities will cover e...</td>\n",
       "    </tr>\n",
       "    <tr>\n",
       "      <th>3</th>\n",
       "      <td>January 10, 2023</td>\n",
       "      <td>Independent Review Indicates NASA Prepared for...</td>\n",
       "      <td>NASA released an independent review report Tue...</td>\n",
       "    </tr>\n",
       "    <tr>\n",
       "      <th>4</th>\n",
       "      <td>January 8, 2023</td>\n",
       "      <td>NASA's New Mars Rover Is Ready for Space Lasers</td>\n",
       "      <td>Perseverance is one of a few Mars spacecraft c...</td>\n",
       "    </tr>\n",
       "    <tr>\n",
       "      <th>5</th>\n",
       "      <td>January 8, 2023</td>\n",
       "      <td>Common Questions about InSight's 'Mole'</td>\n",
       "      <td>The following Q&amp;As with members of the team an...</td>\n",
       "    </tr>\n",
       "    <tr>\n",
       "      <th>6</th>\n",
       "      <td>January 7, 2023</td>\n",
       "      <td>MOXIE Could Help Future Rockets Launch Off Mars</td>\n",
       "      <td>NASA's Perseverance rover carries a device to ...</td>\n",
       "    </tr>\n",
       "    <tr>\n",
       "      <th>7</th>\n",
       "      <td>January 6, 2023</td>\n",
       "      <td>3 Things We've Learned From NASA's Mars InSight</td>\n",
       "      <td>Scientists are finding new mysteries since the...</td>\n",
       "    </tr>\n",
       "    <tr>\n",
       "      <th>8</th>\n",
       "      <td>December 29, 2022</td>\n",
       "      <td>Robotic Toolkit Added to NASA's Mars 2020 Rover</td>\n",
       "      <td>The bit carousel, which lies at the heart of t...</td>\n",
       "    </tr>\n",
       "    <tr>\n",
       "      <th>9</th>\n",
       "      <td>December 28, 2022</td>\n",
       "      <td>NASA Prepares for Moon and Mars With New Addit...</td>\n",
       "      <td>Robotic spacecraft will be able to communicate...</td>\n",
       "    </tr>\n",
       "    <tr>\n",
       "      <th>10</th>\n",
       "      <td>December 27, 2022</td>\n",
       "      <td>Mars 2020 Stands on Its Own Six Wheels</td>\n",
       "      <td>In time-lapse video, taken at JPL, captures th...</td>\n",
       "    </tr>\n",
       "    <tr>\n",
       "      <th>11</th>\n",
       "      <td>December 24, 2022</td>\n",
       "      <td>A Martian Roundtrip: NASA's Perseverance Rover...</td>\n",
       "      <td>Marvels of engineering, the rover's sample tub...</td>\n",
       "    </tr>\n",
       "    <tr>\n",
       "      <th>12</th>\n",
       "      <td>December 23, 2022</td>\n",
       "      <td>NASA Engineers Checking InSight's Weather Sensors</td>\n",
       "      <td>An electronics issue is suspected to be preven...</td>\n",
       "    </tr>\n",
       "    <tr>\n",
       "      <th>13</th>\n",
       "      <td>December 20, 2022</td>\n",
       "      <td>NASA's Curiosity Keeps Rolling As Team Operate...</td>\n",
       "      <td>The team has learned to meet new challenges as...</td>\n",
       "    </tr>\n",
       "    <tr>\n",
       "      <th>14</th>\n",
       "      <td>December 14, 2022</td>\n",
       "      <td>NASA's MAVEN Explores Mars to Understand Radio...</td>\n",
       "      <td>NASA’s MAVEN spacecraft has discovered “layers...</td>\n",
       "    </tr>\n",
       "  </tbody>\n",
       "</table>\n",
       "</div>"
      ],
      "text/plain": [
       "                 date                                              title  \\\n",
       "0    January 13, 2023  NASA's Perseverance Rover Will Peer Beneath Ma...   \n",
       "1    January 12, 2023  Heat and Dust Help Launch Martian Water Into S...   \n",
       "2    January 12, 2023  NASA to Broadcast Mars 2020 Perseverance Launc...   \n",
       "3    January 10, 2023  Independent Review Indicates NASA Prepared for...   \n",
       "4     January 8, 2023    NASA's New Mars Rover Is Ready for Space Lasers   \n",
       "5     January 8, 2023            Common Questions about InSight's 'Mole'   \n",
       "6     January 7, 2023    MOXIE Could Help Future Rockets Launch Off Mars   \n",
       "7     January 6, 2023   3 Things We've Learned From NASA's Mars InSight    \n",
       "8   December 29, 2022    Robotic Toolkit Added to NASA's Mars 2020 Rover   \n",
       "9   December 28, 2022  NASA Prepares for Moon and Mars With New Addit...   \n",
       "10  December 27, 2022             Mars 2020 Stands on Its Own Six Wheels   \n",
       "11  December 24, 2022  A Martian Roundtrip: NASA's Perseverance Rover...   \n",
       "12  December 23, 2022  NASA Engineers Checking InSight's Weather Sensors   \n",
       "13  December 20, 2022  NASA's Curiosity Keeps Rolling As Team Operate...   \n",
       "14  December 14, 2022  NASA's MAVEN Explores Mars to Understand Radio...   \n",
       "\n",
       "                                                 text  \n",
       "0   The agency's newest rover will use the first g...  \n",
       "1   Scientists using an instrument aboard NASA’s M...  \n",
       "2   Starting July 27, news activities will cover e...  \n",
       "3   NASA released an independent review report Tue...  \n",
       "4   Perseverance is one of a few Mars spacecraft c...  \n",
       "5   The following Q&As with members of the team an...  \n",
       "6   NASA's Perseverance rover carries a device to ...  \n",
       "7   Scientists are finding new mysteries since the...  \n",
       "8   The bit carousel, which lies at the heart of t...  \n",
       "9   Robotic spacecraft will be able to communicate...  \n",
       "10  In time-lapse video, taken at JPL, captures th...  \n",
       "11  Marvels of engineering, the rover's sample tub...  \n",
       "12  An electronics issue is suspected to be preven...  \n",
       "13  The team has learned to meet new challenges as...  \n",
       "14  NASA’s MAVEN spacecraft has discovered “layers...  "
      ]
     },
     "execution_count": 17,
     "metadata": {},
     "output_type": "execute_result"
    }
   ],
   "source": [
    "# Loop through the text elements\n",
    "# Extract the title and preview text from the elements\n",
    "# Store each title and preview pair in a dictionary\n",
    "# Add the dictionary to the list\n",
    "for article in articles:\n",
    "    date = article.find(\"div\", {\"class\":\"list_date\"}).text\n",
    "    title = article.find(\"div\", {\"class\":\"content_title\"}).text\n",
    "    text = article.find(\"div\", {\"class\":\"article_teaser_body\"}).text\n",
    "    \n",
    "    row = {}\n",
    "    row[\"date\"] = date\n",
    "    row[\"title\"] = title\n",
    "    row[\"text\"] = text\n",
    "\n",
    "    data.append(row)\n",
    "    \n",
    "df = pd.DataFrame(data)\n",
    "df"
   ]
  },
  {
   "cell_type": "code",
   "execution_count": 18,
   "metadata": {},
   "outputs": [],
   "source": [
    "# Print the list to confirm success"
   ]
  },
  {
   "cell_type": "code",
   "execution_count": 9,
   "metadata": {},
   "outputs": [],
   "source": [
    "browser.quit()"
   ]
  },
  {
   "cell_type": "markdown",
   "metadata": {},
   "source": [
    "### (Optional) Step 4: Export the Data\n",
    "\n",
    "Optionally, store the scraped data in a file or database (to ease sharing the data with others). To do so, export the scraped data to either a JSON file or a MongoDB database."
   ]
  },
  {
   "cell_type": "code",
   "execution_count": 19,
   "metadata": {},
   "outputs": [],
   "source": [
    "# Export data to JSON\n",
    "df.to_json(\"mars.json\", orient=\"records\")"
   ]
  },
  {
   "cell_type": "code",
   "execution_count": null,
   "metadata": {},
   "outputs": [],
   "source": [
    "# Export data to MongoDB\n",
    "df.to_"
   ]
  }
 ],
 "metadata": {
  "kernelspec": {
   "display_name": "Python 3 (ipykernel)",
   "language": "python",
   "name": "python3"
  },
  "language_info": {
   "codemirror_mode": {
    "name": "ipython",
    "version": 3
   },
   "file_extension": ".py",
   "mimetype": "text/x-python",
   "name": "python",
   "nbconvert_exporter": "python",
   "pygments_lexer": "ipython3",
   "version": "3.9.12"
  }
 },
 "nbformat": 4,
 "nbformat_minor": 4
}
