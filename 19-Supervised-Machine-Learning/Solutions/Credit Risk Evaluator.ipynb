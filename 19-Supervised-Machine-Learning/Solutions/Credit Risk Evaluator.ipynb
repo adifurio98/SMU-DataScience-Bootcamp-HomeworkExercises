{
 "cells": [
  {
   "cell_type": "markdown",
   "metadata": {},
   "source": [
    "# Credit Risk Evaluator"
   ]
  },
  {
   "cell_type": "code",
   "execution_count": 6,
   "metadata": {},
   "outputs": [],
   "source": [
    " # Data Science Libs\n",
    "import matplotlib.pyplot as plt\n",
    "import numpy as np\n",
    "import pandas as pd\n",
    "import seaborn as sns\n",
    "\n",
    "# model preprocessing & metrics\n",
    "from sklearn.model_selection import train_test_split\n",
    "from sklearn.preprocessing import StandardScaler, MinMaxScaler\n",
    "from sklearn.metrics import confusion_matrix, classification_report, roc_curve, auc\n",
    "\n",
    "# algorithm\n",
    "from sklearn.linear_model import LogisticRegression\n",
    "from sklearn.neighbors import KNeighborsClassifier\n",
    "from sklearn.tree import DecisionTreeClassifier\n",
    "from sklearn.ensemble import RandomForestClassifier\n",
    "from sklearn.ensemble import AdaBoostClassifier\n"
   ]
  },
  {
   "cell_type": "markdown",
   "metadata": {},
   "source": [
    "## Retrieve the Data\n",
    "\n",
    "The data is located in the Challenge Files Folder:\n",
    "\n",
    "* `lending_data.csv`\n",
    "\n",
    "Import the data using Pandas. Display the resulting dataframe to confirm the import was successful."
   ]
  },
  {
   "cell_type": "code",
   "execution_count": 7,
   "metadata": {},
   "outputs": [
    {
     "name": "stdout",
     "output_type": "stream",
     "text": [
      "<class 'pandas.core.frame.DataFrame'>\n",
      "RangeIndex: 77536 entries, 0 to 77535\n",
      "Data columns (total 8 columns):\n",
      " #   Column            Non-Null Count  Dtype  \n",
      "---  ------            --------------  -----  \n",
      " 0   loan_size         77536 non-null  float64\n",
      " 1   interest_rate     77536 non-null  float64\n",
      " 2   borrower_income   77536 non-null  int64  \n",
      " 3   debt_to_income    77536 non-null  float64\n",
      " 4   num_of_accounts   77536 non-null  int64  \n",
      " 5   derogatory_marks  77536 non-null  int64  \n",
      " 6   total_debt        77536 non-null  int64  \n",
      " 7   loan_status       77536 non-null  int64  \n",
      "dtypes: float64(3), int64(5)\n",
      "memory usage: 4.7 MB\n"
     ]
    }
   ],
   "source": [
    "# Import the data\n",
    "df = pd.read_csv(\"Resources/lending_data.csv\")\n",
    "df.info()"
   ]
  },
  {
   "cell_type": "markdown",
   "metadata": {},
   "source": [
    "## Predict Model Performance\n",
    "\n",
    "You will be creating and comparing two models on this data: a Logistic Regression, and a Random Forests Classifier. Before you create, fit, and score the models, make a prediction as to which model you think will perform better. You do not need to be correct! \n",
    "\n",
    "Write down your prediction in the designated cells in your Jupyter Notebook, and provide justification for your educated guess."
   ]
  },
  {
   "cell_type": "markdown",
   "metadata": {},
   "source": [
    "I think that the random forest model is going to have a better performance, because in our class examples this past week, the rf models more often showed more accurate performances. I think rf models work better due to their randomization and lack of correlation. "
   ]
  },
  {
   "cell_type": "markdown",
   "metadata": {},
   "source": [
    "## Split the Data into Training and Testing Sets"
   ]
  },
  {
   "cell_type": "code",
   "execution_count": 8,
   "metadata": {},
   "outputs": [
    {
     "name": "stdout",
     "output_type": "stream",
     "text": [
      "0.75 : 0.25\n"
     ]
    }
   ],
   "source": [
    "from sklearn.model_selection import train_test_split\n",
    "\n",
    "# Split the data into X_train, X_test, y_train, y_test\n",
    "\n",
    "X = df.drop(\"loan_status\", axis=1).values\n",
    "y = df.loc[:, [\"loan_status\"]].values.ravel()\n",
    "\n",
    "X_train, X_test, y_train, y_test = train_test_split(X, y, test_size=0.25, random_state=42, stratify=y) # use stratify for classification models\n",
    "print(f\"{round(len(X_train)/len(X), 3)} : {round(len(X_test)/len(X), 3)}\")"
   ]
  },
  {
   "cell_type": "markdown",
   "metadata": {},
   "source": [
    "## Create, Fit and Compare Models\n",
    "\n",
    "Create a Logistic Regression model, fit it to the data, and print the model's score. Do the same for a Random Forest Classifier. You may choose any starting hyperparameters you like. \n",
    "\n",
    "Which model performed better? How does that compare to your prediction? Write down your results and thoughts in the designated markdown cell."
   ]
  },
  {
   "cell_type": "code",
   "execution_count": 9,
   "metadata": {},
   "outputs": [],
   "source": [
    "def evaluateModel(model, X_train, X_test, y_train, y_test):\n",
    "    model.fit(X_train, y_train) # fit\n",
    "    \n",
    "    train_preds = model.predict(X_train) # predict\n",
    "    test_preds = model.predict(X_test)\n",
    "    test_proba = model.predict_proba(X_test)\n",
    "    \n",
    "    output_train = f\"\"\"\n",
    "    METRICS FOR THE TRAINING SET:\n",
    "    ----------------------------\n",
    "    {confusion_matrix(y_train, train_preds)}\n",
    "\n",
    "    {classification_report(y_train, train_preds)}\n",
    "    \"\"\"\n",
    "    print(output_train)\n",
    "\n",
    "    #################################################\n",
    "\n",
    "    output_test = f\"\"\"\n",
    "    METRICS FOR THE TESTING SET:\n",
    "    ----------------------------\n",
    "    {confusion_matrix(y_test, test_preds)}\n",
    "\n",
    "    {classification_report(y_test, test_preds)}\n",
    "    \"\"\"\n",
    "    print(output_test)\n",
    "    print()\n",
    "    \n",
    "    #################################################\n",
    "    \n",
    "    fpr_knn, tpr_knn, thresholds_knn = roc_curve(y_test, test_proba[:,1])\n",
    "\n",
    "    roc_auc_knn = auc(fpr_knn, tpr_knn)\n",
    "    print(f\"AUC for the Model Test Set: {roc_auc_knn}\")\n",
    "\n",
    "    # make plot\n",
    "    plt.figure(figsize=(10,6))\n",
    "    plt.plot(fpr_knn, tpr_knn, color='darkorange')\n",
    "    plt.plot([0, 1], [0, 1], color='navy', linestyle='--')\n",
    "    plt.xlim([0.0, 1.0])\n",
    "    plt.ylim([0.0, 1.05])\n",
    "    plt.xlabel('False Positive Rate')\n",
    "    plt.ylabel('True Positive Rate')\n",
    "    plt.title('ROC Curve')\n",
    "    plt.show()\n",
    "    \n",
    "    print(\"Brier Score:\")\n",
    "    print(sum((y_test - test_proba[:,1])**2))"
   ]
  },
  {
   "cell_type": "code",
   "execution_count": 10,
   "metadata": {},
   "outputs": [
    {
     "name": "stdout",
     "output_type": "stream",
     "text": [
      "\n",
      "    METRICS FOR THE TRAINING SET:\n",
      "    ----------------------------\n",
      "    [[55978   299]\n",
      " [  200  1675]]\n",
      "\n",
      "                  precision    recall  f1-score   support\n",
      "\n",
      "           0       1.00      0.99      1.00     56277\n",
      "           1       0.85      0.89      0.87      1875\n",
      "\n",
      "    accuracy                           0.99     58152\n",
      "   macro avg       0.92      0.94      0.93     58152\n",
      "weighted avg       0.99      0.99      0.99     58152\n",
      "\n",
      "    \n",
      "\n",
      "    METRICS FOR THE TESTING SET:\n",
      "    ----------------------------\n",
      "    [[18681    78]\n",
      " [   56   569]]\n",
      "\n",
      "                  precision    recall  f1-score   support\n",
      "\n",
      "           0       1.00      1.00      1.00     18759\n",
      "           1       0.88      0.91      0.89       625\n",
      "\n",
      "    accuracy                           0.99     19384\n",
      "   macro avg       0.94      0.95      0.95     19384\n",
      "weighted avg       0.99      0.99      0.99     19384\n",
      "\n",
      "    \n",
      "\n",
      "AUC for the Model Test Set: 0.9969096007249854\n"
     ]
    },
    {
     "data": {
      "image/png": "[encoded data removed]",
      "text/plain": [
       "<Figure size 720x432 with 1 Axes>"
      ]
     },
     "metadata": {
      "needs_background": "light"
     },
     "output_type": "display_data"
    },
    {
     "name": "stdout",
     "output_type": "stream",
     "text": [
      "Brier Score:\n",
      "108.18437115219342\n"
     ]
    }
   ],
   "source": [
    "# Train a Logistic Regression model and print the model score\n",
    "lr = LogisticRegression(max_iter=10000)\n",
    "\n",
    "evaluateModel(lr, X_train, X_test, y_train, y_test)"
   ]
  },
  {
   "cell_type": "code",
   "execution_count": 11,
   "metadata": {},
   "outputs": [
    {
     "name": "stdout",
     "output_type": "stream",
     "text": [
      "\n",
      "    METRICS FOR THE TRAINING SET:\n",
      "    ----------------------------\n",
      "    [[56141   136]\n",
      " [   31  1844]]\n",
      "\n",
      "                  precision    recall  f1-score   support\n",
      "\n",
      "           0       1.00      1.00      1.00     56277\n",
      "           1       0.93      0.98      0.96      1875\n",
      "\n",
      "    accuracy                           1.00     58152\n",
      "   macro avg       0.97      0.99      0.98     58152\n",
      "weighted avg       1.00      1.00      1.00     58152\n",
      "\n",
      "    \n",
      "\n",
      "    METRICS FOR THE TESTING SET:\n",
      "    ----------------------------\n",
      "    [[18683    76]\n",
      " [   65   560]]\n",
      "\n",
      "                  precision    recall  f1-score   support\n",
      "\n",
      "           0       1.00      1.00      1.00     18759\n",
      "           1       0.88      0.90      0.89       625\n",
      "\n",
      "    accuracy                           0.99     19384\n",
      "   macro avg       0.94      0.95      0.94     19384\n",
      "weighted avg       0.99      0.99      0.99     19384\n",
      "\n",
      "    \n",
      "\n",
      "AUC for the Model Test Set: 0.997236910283064\n"
     ]
    },
    {
     "data": {
      "image/png": "[encoded data removed]",
      "text/plain": [
       "<Figure size 720x432 with 1 Axes>"
      ]
     },
     "metadata": {
      "needs_background": "light"
     },
     "output_type": "display_data"
    },
    {
     "name": "stdout",
     "output_type": "stream",
     "text": [
      "Brier Score:\n",
      "103.98348952012661\n"
     ]
    }
   ],
   "source": [
    "# Train a Random Forest Classifier model and print the model score\n",
    "rf = RandomForestClassifier(random_state=42)\n",
    "\n",
    "evaluateModel(rf, X_train, X_test, y_train, y_test)"
   ]
  },
  {
   "cell_type": "markdown",
   "metadata": {},
   "source": [
    "The RF model performed just slightly better, which aligned with my prediction. I think in this case, the disparity between the two models was so minor that it wouldn't be too significant to use either model with this particular data set. "
   ]
  }
 ],
 "metadata": {
  "kernelspec": {
   "display_name": "Python 3 (ipykernel)",
   "language": "python",
   "name": "python3"
  },
  "language_info": {
   "codemirror_mode": {
    "name": "ipython",
    "version": 3
   },
   "file_extension": ".py",
   "mimetype": "text/x-python",
   "name": "python",
   "nbconvert_exporter": "python",
   "pygments_lexer": "ipython3",
   "version": "3.9.12"
  }
 },
 "nbformat": 4,
 "nbformat_minor": 4
}
