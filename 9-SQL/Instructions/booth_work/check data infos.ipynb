{
 "cells": [
  {
   "cell_type": "code",
   "execution_count": 2,
   "id": "578ce0b2",
   "metadata": {},
   "outputs": [],
   "source": [
    "import pandas as pd\n",
    "import os"
   ]
  },
  {
   "cell_type": "code",
   "execution_count": 4,
   "id": "08a1fa33",
   "metadata": {},
   "outputs": [
    {
     "data": {
      "text/plain": [
       "['departments.csv',\n",
       " 'dept_emp.csv',\n",
       " 'dept_manager.csv',\n",
       " 'employees.csv',\n",
       " 'salaries.csv',\n",
       " 'titles.csv']"
      ]
     },
     "execution_count": 4,
     "metadata": {},
     "output_type": "execute_result"
    }
   ],
   "source": [
    "files = os.listdir(\"../data/\")\n",
    "files"
   ]
  },
  {
   "cell_type": "code",
   "execution_count": 6,
   "id": "f6f425a7",
   "metadata": {},
   "outputs": [
    {
     "name": "stdout",
     "output_type": "stream",
     "text": [
      "departments.csv\n",
      "<class 'pandas.core.frame.DataFrame'>\n",
      "RangeIndex: 9 entries, 0 to 8\n",
      "Data columns (total 2 columns):\n",
      " #   Column     Non-Null Count  Dtype \n",
      "---  ------     --------------  ----- \n",
      " 0   dept_no    9 non-null      object\n",
      " 1   dept_name  9 non-null      object\n",
      "dtypes: object(2)\n",
      "memory usage: 272.0+ bytes\n",
      "None\n",
      "\n",
      "dept_emp.csv\n",
      "<class 'pandas.core.frame.DataFrame'>\n",
      "RangeIndex: 331603 entries, 0 to 331602\n",
      "Data columns (total 2 columns):\n",
      " #   Column   Non-Null Count   Dtype \n",
      "---  ------   --------------   ----- \n",
      " 0   emp_no   331603 non-null  int64 \n",
      " 1   dept_no  331603 non-null  object\n",
      "dtypes: int64(1), object(1)\n",
      "memory usage: 5.1+ MB\n",
      "None\n",
      "\n",
      "dept_manager.csv\n",
      "<class 'pandas.core.frame.DataFrame'>\n",
      "RangeIndex: 24 entries, 0 to 23\n",
      "Data columns (total 2 columns):\n",
      " #   Column   Non-Null Count  Dtype \n",
      "---  ------   --------------  ----- \n",
      " 0   dept_no  24 non-null     object\n",
      " 1   emp_no   24 non-null     int64 \n",
      "dtypes: int64(1), object(1)\n",
      "memory usage: 512.0+ bytes\n",
      "None\n",
      "\n",
      "employees.csv\n",
      "<class 'pandas.core.frame.DataFrame'>\n",
      "RangeIndex: 300024 entries, 0 to 300023\n",
      "Data columns (total 7 columns):\n",
      " #   Column        Non-Null Count   Dtype \n",
      "---  ------        --------------   ----- \n",
      " 0   emp_no        300024 non-null  int64 \n",
      " 1   emp_title_id  300024 non-null  object\n",
      " 2   birth_date    300024 non-null  object\n",
      " 3   first_name    300024 non-null  object\n",
      " 4   last_name     300024 non-null  object\n",
      " 5   sex           300024 non-null  object\n",
      " 6   hire_date     300024 non-null  object\n",
      "dtypes: int64(1), object(6)\n",
      "memory usage: 16.0+ MB\n",
      "None\n",
      "\n",
      "salaries.csv\n",
      "<class 'pandas.core.frame.DataFrame'>\n",
      "RangeIndex: 300024 entries, 0 to 300023\n",
      "Data columns (total 2 columns):\n",
      " #   Column  Non-Null Count   Dtype\n",
      "---  ------  --------------   -----\n",
      " 0   emp_no  300024 non-null  int64\n",
      " 1   salary  300024 non-null  int64\n",
      "dtypes: int64(2)\n",
      "memory usage: 4.6 MB\n",
      "None\n",
      "\n",
      "titles.csv\n",
      "<class 'pandas.core.frame.DataFrame'>\n",
      "RangeIndex: 7 entries, 0 to 6\n",
      "Data columns (total 2 columns):\n",
      " #   Column    Non-Null Count  Dtype \n",
      "---  ------    --------------  ----- \n",
      " 0   title_id  7 non-null      object\n",
      " 1   title     7 non-null      object\n",
      "dtypes: object(2)\n",
      "memory usage: 240.0+ bytes\n",
      "None\n",
      "\n"
     ]
    }
   ],
   "source": [
    "for file in files:\n",
    "    print(file)\n",
    "    df = pd.read_csv(\"../data/\" + file)\n",
    "    print(df.info())\n",
    "    print()"
   ]
  },
  {
   "cell_type": "code",
   "execution_count": null,
   "id": "a5bf6153",
   "metadata": {},
   "outputs": [],
   "source": []
  }
 ],
 "metadata": {
  "kernelspec": {
   "display_name": "Python 3 (ipykernel)",
   "language": "python",
   "name": "python3"
  },
  "language_info": {
   "codemirror_mode": {
    "name": "ipython",
    "version": 3
   },
   "file_extension": ".py",
   "mimetype": "text/x-python",
   "name": "python",
   "nbconvert_exporter": "python",
   "pygments_lexer": "ipython3",
   "version": "3.7.3"
  }
 },
 "nbformat": 4,
 "nbformat_minor": 5
}
